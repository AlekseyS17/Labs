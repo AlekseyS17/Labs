{
  "nbformat": 4,
  "nbformat_minor": 0,
  "metadata": {
    "colab": {
      "provenance": [],
      "authorship_tag": "ABX9TyNkKbT67ij3+0jB70DQQMUD",
      "include_colab_link": true
    },
    "kernelspec": {
      "name": "python3",
      "display_name": "Python 3"
    },
    "language_info": {
      "name": "python"
    }
  },
  "cells": [
    {
      "cell_type": "markdown",
      "metadata": {
        "id": "view-in-github",
        "colab_type": "text"
      },
      "source": [
        "<a href=\"https://colab.research.google.com/github/AlekseyS17/Labs/blob/main/Lab3_Safrygin.ipynb\" target=\"_parent\"><img src=\"https://colab.research.google.com/assets/colab-badge.svg\" alt=\"Open In Colab\"/></a>"
      ]
    },
    {
      "cell_type": "markdown",
      "source": [
        "# Лабораторная работа №3"
      ],
      "metadata": {
        "id": "YuRuo2jUrVuL"
      }
    },
    {
      "cell_type": "markdown",
      "source": [
        "Частотный анализ"
      ],
      "metadata": {
        "id": "0oQhX57wrfcQ"
      }
    },
    {
      "cell_type": "markdown",
      "source": [
        "Цель: Ознакомиться с методами частотного анализа из библиотеки MLxtend"
      ],
      "metadata": {
        "id": "vZGUSwcvrsFf"
      }
    },
    {
      "cell_type": "markdown",
      "source": [
        "Выполнение:\n"
      ],
      "metadata": {
        "id": "41TM_lK3rwva"
      }
    },
    {
      "cell_type": "markdown",
      "source": [
        "Для выполнения лаб. работы необходимо установить библиотеку MLxtend"
      ],
      "metadata": {
        "id": "eebVwt5ksUvh"
      }
    },
    {
      "cell_type": "code",
      "source": [
        "pip install mlxtend"
      ],
      "metadata": {
        "colab": {
          "base_uri": "https://localhost:8080/"
        },
        "id": "3VCx1K61KPrE",
        "outputId": "d10695d3-d46e-4fe5-804c-76b115ae189e"
      },
      "execution_count": 63,
      "outputs": [
        {
          "output_type": "stream",
          "name": "stderr",
          "text": [
            "/usr/local/lib/python3.10/dist-packages/ipykernel/ipkernel.py:283: DeprecationWarning: `should_run_async` will not call `transform_cell` automatically in the future. Please pass the result to `transformed_cell` argument and any exception that happen during thetransform in `preprocessing_exc_tuple` in IPython 7.17 and above.\n",
            "  and should_run_async(code)\n"
          ]
        },
        {
          "output_type": "stream",
          "name": "stdout",
          "text": [
            "Requirement already satisfied: mlxtend in /usr/local/lib/python3.10/dist-packages (0.23.1)\n",
            "Requirement already satisfied: scipy>=1.2.1 in /usr/local/lib/python3.10/dist-packages (from mlxtend) (1.13.1)\n",
            "Requirement already satisfied: numpy>=1.16.2 in /usr/local/lib/python3.10/dist-packages (from mlxtend) (1.26.4)\n",
            "Requirement already satisfied: pandas>=0.24.2 in /usr/local/lib/python3.10/dist-packages (from mlxtend) (2.2.2)\n",
            "Requirement already satisfied: scikit-learn>=1.0.2 in /usr/local/lib/python3.10/dist-packages (from mlxtend) (1.5.2)\n",
            "Requirement already satisfied: matplotlib>=3.0.0 in /usr/local/lib/python3.10/dist-packages (from mlxtend) (3.7.1)\n",
            "Requirement already satisfied: joblib>=0.13.2 in /usr/local/lib/python3.10/dist-packages (from mlxtend) (1.4.2)\n",
            "Requirement already satisfied: contourpy>=1.0.1 in /usr/local/lib/python3.10/dist-packages (from matplotlib>=3.0.0->mlxtend) (1.3.0)\n",
            "Requirement already satisfied: cycler>=0.10 in /usr/local/lib/python3.10/dist-packages (from matplotlib>=3.0.0->mlxtend) (0.12.1)\n",
            "Requirement already satisfied: fonttools>=4.22.0 in /usr/local/lib/python3.10/dist-packages (from matplotlib>=3.0.0->mlxtend) (4.54.1)\n",
            "Requirement already satisfied: kiwisolver>=1.0.1 in /usr/local/lib/python3.10/dist-packages (from matplotlib>=3.0.0->mlxtend) (1.4.7)\n",
            "Requirement already satisfied: packaging>=20.0 in /usr/local/lib/python3.10/dist-packages (from matplotlib>=3.0.0->mlxtend) (24.1)\n",
            "Requirement already satisfied: pillow>=6.2.0 in /usr/local/lib/python3.10/dist-packages (from matplotlib>=3.0.0->mlxtend) (10.4.0)\n",
            "Requirement already satisfied: pyparsing>=2.3.1 in /usr/local/lib/python3.10/dist-packages (from matplotlib>=3.0.0->mlxtend) (3.2.0)\n",
            "Requirement already satisfied: python-dateutil>=2.7 in /usr/local/lib/python3.10/dist-packages (from matplotlib>=3.0.0->mlxtend) (2.8.2)\n",
            "Requirement already satisfied: pytz>=2020.1 in /usr/local/lib/python3.10/dist-packages (from pandas>=0.24.2->mlxtend) (2024.2)\n",
            "Requirement already satisfied: tzdata>=2022.7 in /usr/local/lib/python3.10/dist-packages (from pandas>=0.24.2->mlxtend) (2024.2)\n",
            "Requirement already satisfied: threadpoolctl>=3.1.0 in /usr/local/lib/python3.10/dist-packages (from scikit-learn>=1.0.2->mlxtend) (3.5.0)\n",
            "Requirement already satisfied: six>=1.5 in /usr/local/lib/python3.10/dist-packages (from python-dateutil>=2.7->matplotlib>=3.0.0->mlxtend) (1.16.0)\n"
          ]
        }
      ]
    },
    {
      "cell_type": "markdown",
      "source": [
        "Загрузка данных\n",
        "1. Загрузить датасет по ссылке: https://www.kaggle.com/acostasg/random-shopping-cart .\n",
        "Данные представлены в виде csv таблицы. Данные представляют собой информацию о том,\n",
        "какой покупатель что и когда покупал. В данной лаб. работе не будем использовать данные\n",
        "о дате покупки."
      ],
      "metadata": {
        "id": "bTvUkWMRtbLU"
      }
    },
    {
      "cell_type": "markdown",
      "source": [
        "2. Создать Python скрипт. Загрузить данные в датафрейм."
      ],
      "metadata": {
        "id": "Tcp9g7u7todC"
      }
    },
    {
      "cell_type": "code",
      "source": [
        "import pandas as pd\n",
        "import numpy as np\n",
        "\n",
        "from google.colab import files\n",
        "uploaded = files.upload()\n",
        "\n",
        "all_data = pd.read_csv('dataset_group.csv',header=None)\n",
        "#В файле нет строки с названием столбцов, поэтому параметр header равен None.\n",
        "#Интерес представляет информация об id покупателя - столбец с названием 1\n",
        "#Название купленного товара хранится в столбце с названием 2"
      ],
      "metadata": {
        "colab": {
          "base_uri": "https://localhost:8080/",
          "height": 71
        },
        "id": "gm2tkA7otu8q",
        "outputId": "120b9319-ef39-41ed-b69b-7b6314bad398"
      },
      "execution_count": 3,
      "outputs": [
        {
          "output_type": "display_data",
          "data": {
            "text/plain": [
              "<IPython.core.display.HTML object>"
            ],
            "text/html": [
              "\n",
              "     <input type=\"file\" id=\"files-085d9b5a-b2d3-42ff-95d1-8243b7f13315\" name=\"files[]\" multiple disabled\n",
              "        style=\"border:none\" />\n",
              "     <output id=\"result-085d9b5a-b2d3-42ff-95d1-8243b7f13315\">\n",
              "      Upload widget is only available when the cell has been executed in the\n",
              "      current browser session. Please rerun this cell to enable.\n",
              "      </output>\n",
              "      <script>// Copyright 2017 Google LLC\n",
              "//\n",
              "// Licensed under the Apache License, Version 2.0 (the \"License\");\n",
              "// you may not use this file except in compliance with the License.\n",
              "// You may obtain a copy of the License at\n",
              "//\n",
              "//      http://www.apache.org/licenses/LICENSE-2.0\n",
              "//\n",
              "// Unless required by applicable law or agreed to in writing, software\n",
              "// distributed under the License is distributed on an \"AS IS\" BASIS,\n",
              "// WITHOUT WARRANTIES OR CONDITIONS OF ANY KIND, either express or implied.\n",
              "// See the License for the specific language governing permissions and\n",
              "// limitations under the License.\n",
              "\n",
              "/**\n",
              " * @fileoverview Helpers for google.colab Python module.\n",
              " */\n",
              "(function(scope) {\n",
              "function span(text, styleAttributes = {}) {\n",
              "  const element = document.createElement('span');\n",
              "  element.textContent = text;\n",
              "  for (const key of Object.keys(styleAttributes)) {\n",
              "    element.style[key] = styleAttributes[key];\n",
              "  }\n",
              "  return element;\n",
              "}\n",
              "\n",
              "// Max number of bytes which will be uploaded at a time.\n",
              "const MAX_PAYLOAD_SIZE = 100 * 1024;\n",
              "\n",
              "function _uploadFiles(inputId, outputId) {\n",
              "  const steps = uploadFilesStep(inputId, outputId);\n",
              "  const outputElement = document.getElementById(outputId);\n",
              "  // Cache steps on the outputElement to make it available for the next call\n",
              "  // to uploadFilesContinue from Python.\n",
              "  outputElement.steps = steps;\n",
              "\n",
              "  return _uploadFilesContinue(outputId);\n",
              "}\n",
              "\n",
              "// This is roughly an async generator (not supported in the browser yet),\n",
              "// where there are multiple asynchronous steps and the Python side is going\n",
              "// to poll for completion of each step.\n",
              "// This uses a Promise to block the python side on completion of each step,\n",
              "// then passes the result of the previous step as the input to the next step.\n",
              "function _uploadFilesContinue(outputId) {\n",
              "  const outputElement = document.getElementById(outputId);\n",
              "  const steps = outputElement.steps;\n",
              "\n",
              "  const next = steps.next(outputElement.lastPromiseValue);\n",
              "  return Promise.resolve(next.value.promise).then((value) => {\n",
              "    // Cache the last promise value to make it available to the next\n",
              "    // step of the generator.\n",
              "    outputElement.lastPromiseValue = value;\n",
              "    return next.value.response;\n",
              "  });\n",
              "}\n",
              "\n",
              "/**\n",
              " * Generator function which is called between each async step of the upload\n",
              " * process.\n",
              " * @param {string} inputId Element ID of the input file picker element.\n",
              " * @param {string} outputId Element ID of the output display.\n",
              " * @return {!Iterable<!Object>} Iterable of next steps.\n",
              " */\n",
              "function* uploadFilesStep(inputId, outputId) {\n",
              "  const inputElement = document.getElementById(inputId);\n",
              "  inputElement.disabled = false;\n",
              "\n",
              "  const outputElement = document.getElementById(outputId);\n",
              "  outputElement.innerHTML = '';\n",
              "\n",
              "  const pickedPromise = new Promise((resolve) => {\n",
              "    inputElement.addEventListener('change', (e) => {\n",
              "      resolve(e.target.files);\n",
              "    });\n",
              "  });\n",
              "\n",
              "  const cancel = document.createElement('button');\n",
              "  inputElement.parentElement.appendChild(cancel);\n",
              "  cancel.textContent = 'Cancel upload';\n",
              "  const cancelPromise = new Promise((resolve) => {\n",
              "    cancel.onclick = () => {\n",
              "      resolve(null);\n",
              "    };\n",
              "  });\n",
              "\n",
              "  // Wait for the user to pick the files.\n",
              "  const files = yield {\n",
              "    promise: Promise.race([pickedPromise, cancelPromise]),\n",
              "    response: {\n",
              "      action: 'starting',\n",
              "    }\n",
              "  };\n",
              "\n",
              "  cancel.remove();\n",
              "\n",
              "  // Disable the input element since further picks are not allowed.\n",
              "  inputElement.disabled = true;\n",
              "\n",
              "  if (!files) {\n",
              "    return {\n",
              "      response: {\n",
              "        action: 'complete',\n",
              "      }\n",
              "    };\n",
              "  }\n",
              "\n",
              "  for (const file of files) {\n",
              "    const li = document.createElement('li');\n",
              "    li.append(span(file.name, {fontWeight: 'bold'}));\n",
              "    li.append(span(\n",
              "        `(${file.type || 'n/a'}) - ${file.size} bytes, ` +\n",
              "        `last modified: ${\n",
              "            file.lastModifiedDate ? file.lastModifiedDate.toLocaleDateString() :\n",
              "                                    'n/a'} - `));\n",
              "    const percent = span('0% done');\n",
              "    li.appendChild(percent);\n",
              "\n",
              "    outputElement.appendChild(li);\n",
              "\n",
              "    const fileDataPromise = new Promise((resolve) => {\n",
              "      const reader = new FileReader();\n",
              "      reader.onload = (e) => {\n",
              "        resolve(e.target.result);\n",
              "      };\n",
              "      reader.readAsArrayBuffer(file);\n",
              "    });\n",
              "    // Wait for the data to be ready.\n",
              "    let fileData = yield {\n",
              "      promise: fileDataPromise,\n",
              "      response: {\n",
              "        action: 'continue',\n",
              "      }\n",
              "    };\n",
              "\n",
              "    // Use a chunked sending to avoid message size limits. See b/62115660.\n",
              "    let position = 0;\n",
              "    do {\n",
              "      const length = Math.min(fileData.byteLength - position, MAX_PAYLOAD_SIZE);\n",
              "      const chunk = new Uint8Array(fileData, position, length);\n",
              "      position += length;\n",
              "\n",
              "      const base64 = btoa(String.fromCharCode.apply(null, chunk));\n",
              "      yield {\n",
              "        response: {\n",
              "          action: 'append',\n",
              "          file: file.name,\n",
              "          data: base64,\n",
              "        },\n",
              "      };\n",
              "\n",
              "      let percentDone = fileData.byteLength === 0 ?\n",
              "          100 :\n",
              "          Math.round((position / fileData.byteLength) * 100);\n",
              "      percent.textContent = `${percentDone}% done`;\n",
              "\n",
              "    } while (position < fileData.byteLength);\n",
              "  }\n",
              "\n",
              "  // All done.\n",
              "  yield {\n",
              "    response: {\n",
              "      action: 'complete',\n",
              "    }\n",
              "  };\n",
              "}\n",
              "\n",
              "scope.google = scope.google || {};\n",
              "scope.google.colab = scope.google.colab || {};\n",
              "scope.google.colab._files = {\n",
              "  _uploadFiles,\n",
              "  _uploadFilesContinue,\n",
              "};\n",
              "})(self);\n",
              "</script> "
            ]
          },
          "metadata": {}
        },
        {
          "output_type": "stream",
          "name": "stdout",
          "text": [
            "Saving dataset_group.csv to dataset_group.csv\n"
          ]
        }
      ]
    },
    {
      "cell_type": "markdown",
      "source": [
        "3. Получим список всех id покупателей, которые есть в файле."
      ],
      "metadata": {
        "id": "Xtf35e2tvz5S"
      }
    },
    {
      "cell_type": "code",
      "source": [
        "unique_id = list(set(all_data[1]))\n",
        "print(f'Список id - {unique_id}') #Выведем список всех id\n",
        "print(f'Количество id : {len(unique_id)}') #Выведем количество id"
      ],
      "metadata": {
        "colab": {
          "base_uri": "https://localhost:8080/"
        },
        "id": "hD6_iTbFv5sX",
        "outputId": "a4c319d3-6d65-4b31-f76d-03e644bb8bdf"
      },
      "execution_count": 4,
      "outputs": [
        {
          "output_type": "stream",
          "name": "stdout",
          "text": [
            "Список id - [1, 2, 3, 4, 5, 6, 7, 8, 9, 10, 11, 12, 13, 14, 15, 16, 17, 18, 19, 20, 21, 22, 23, 24, 25, 26, 27, 28, 29, 30, 31, 32, 33, 34, 35, 36, 37, 38, 39, 40, 41, 42, 43, 44, 45, 46, 47, 48, 49, 50, 51, 52, 53, 54, 55, 56, 57, 58, 59, 60, 61, 62, 63, 64, 65, 66, 67, 68, 69, 70, 71, 72, 73, 74, 75, 76, 77, 78, 79, 80, 81, 82, 83, 84, 85, 86, 87, 88, 89, 90, 91, 92, 93, 94, 95, 96, 97, 98, 99, 100, 101, 102, 103, 104, 105, 106, 107, 108, 109, 110, 111, 112, 113, 114, 115, 116, 117, 118, 119, 120, 121, 122, 123, 124, 125, 126, 127, 128, 129, 130, 131, 132, 133, 134, 135, 136, 137, 138, 139, 140, 141, 142, 143, 144, 145, 146, 147, 148, 149, 150, 151, 152, 153, 154, 155, 156, 157, 158, 159, 160, 161, 162, 163, 164, 165, 166, 167, 168, 169, 170, 171, 172, 173, 174, 175, 176, 177, 178, 179, 180, 181, 182, 183, 184, 185, 186, 187, 188, 189, 190, 191, 192, 193, 194, 195, 196, 197, 198, 199, 200, 201, 202, 203, 204, 205, 206, 207, 208, 209, 210, 211, 212, 213, 214, 215, 216, 217, 218, 219, 220, 221, 222, 223, 224, 225, 226, 227, 228, 229, 230, 231, 232, 233, 234, 235, 236, 237, 238, 239, 240, 241, 242, 243, 244, 245, 246, 247, 248, 249, 250, 251, 252, 253, 254, 255, 256, 257, 258, 259, 260, 261, 262, 263, 264, 265, 266, 267, 268, 269, 270, 271, 272, 273, 274, 275, 276, 277, 278, 279, 280, 281, 282, 283, 284, 285, 286, 287, 288, 289, 290, 291, 292, 293, 294, 295, 296, 297, 298, 299, 300, 301, 302, 303, 304, 305, 306, 307, 308, 309, 310, 311, 312, 313, 314, 315, 316, 317, 318, 319, 320, 321, 322, 323, 324, 325, 326, 327, 328, 329, 330, 331, 332, 333, 334, 335, 336, 337, 338, 339, 340, 341, 342, 343, 344, 345, 346, 347, 348, 349, 350, 351, 352, 353, 354, 355, 356, 357, 358, 359, 360, 361, 362, 363, 364, 365, 366, 367, 368, 369, 370, 371, 372, 373, 374, 375, 376, 377, 378, 379, 380, 381, 382, 383, 384, 385, 386, 387, 388, 389, 390, 391, 392, 393, 394, 395, 396, 397, 398, 399, 400, 401, 402, 403, 404, 405, 406, 407, 408, 409, 410, 411, 412, 413, 414, 415, 416, 417, 418, 419, 420, 421, 422, 423, 424, 425, 426, 427, 428, 429, 430, 431, 432, 433, 434, 435, 436, 437, 438, 439, 440, 441, 442, 443, 444, 445, 446, 447, 448, 449, 450, 451, 452, 453, 454, 455, 456, 457, 458, 459, 460, 461, 462, 463, 464, 465, 466, 467, 468, 469, 470, 471, 472, 473, 474, 475, 476, 477, 478, 479, 480, 481, 482, 483, 484, 485, 486, 487, 488, 489, 490, 491, 492, 493, 494, 495, 496, 497, 498, 499, 500, 501, 502, 503, 504, 505, 506, 507, 508, 509, 510, 511, 512, 513, 514, 515, 516, 517, 518, 519, 520, 521, 522, 523, 524, 525, 526, 527, 528, 529, 530, 531, 532, 533, 534, 535, 536, 537, 538, 539, 540, 541, 542, 543, 544, 545, 546, 547, 548, 549, 550, 551, 552, 553, 554, 555, 556, 557, 558, 559, 560, 561, 562, 563, 564, 565, 566, 567, 568, 569, 570, 571, 572, 573, 574, 575, 576, 577, 578, 579, 580, 581, 582, 583, 584, 585, 586, 587, 588, 589, 590, 591, 592, 593, 594, 595, 596, 597, 598, 599, 600, 601, 602, 603, 604, 605, 606, 607, 608, 609, 610, 611, 612, 613, 614, 615, 616, 617, 618, 619, 620, 621, 622, 623, 624, 625, 626, 627, 628, 629, 630, 631, 632, 633, 634, 635, 636, 637, 638, 639, 640, 641, 642, 643, 644, 645, 646, 647, 648, 649, 650, 651, 652, 653, 654, 655, 656, 657, 658, 659, 660, 661, 662, 663, 664, 665, 666, 667, 668, 669, 670, 671, 672, 673, 674, 675, 676, 677, 678, 679, 680, 681, 682, 683, 684, 685, 686, 687, 688, 689, 690, 691, 692, 693, 694, 695, 696, 697, 698, 699, 700, 701, 702, 703, 704, 705, 706, 707, 708, 709, 710, 711, 712, 713, 714, 715, 716, 717, 718, 719, 720, 721, 722, 723, 724, 725, 726, 727, 728, 729, 730, 731, 732, 733, 734, 735, 736, 737, 738, 739, 740, 741, 742, 743, 744, 745, 746, 747, 748, 749, 750, 751, 752, 753, 754, 755, 756, 757, 758, 759, 760, 761, 762, 763, 764, 765, 766, 767, 768, 769, 770, 771, 772, 773, 774, 775, 776, 777, 778, 779, 780, 781, 782, 783, 784, 785, 786, 787, 788, 789, 790, 791, 792, 793, 794, 795, 796, 797, 798, 799, 800, 801, 802, 803, 804, 805, 806, 807, 808, 809, 810, 811, 812, 813, 814, 815, 816, 817, 818, 819, 820, 821, 822, 823, 824, 825, 826, 827, 828, 829, 830, 831, 832, 833, 834, 835, 836, 837, 838, 839, 840, 841, 842, 843, 844, 845, 846, 847, 848, 849, 850, 851, 852, 853, 854, 855, 856, 857, 858, 859, 860, 861, 862, 863, 864, 865, 866, 867, 868, 869, 870, 871, 872, 873, 874, 875, 876, 877, 878, 879, 880, 881, 882, 883, 884, 885, 886, 887, 888, 889, 890, 891, 892, 893, 894, 895, 896, 897, 898, 899, 900, 901, 902, 903, 904, 905, 906, 907, 908, 909, 910, 911, 912, 913, 914, 915, 916, 917, 918, 919, 920, 921, 922, 923, 924, 925, 926, 927, 928, 929, 930, 931, 932, 933, 934, 935, 936, 937, 938, 939, 940, 941, 942, 943, 944, 945, 946, 947, 948, 949, 950, 951, 952, 953, 954, 955, 956, 957, 958, 959, 960, 961, 962, 963, 964, 965, 966, 967, 968, 969, 970, 971, 972, 973, 974, 975, 976, 977, 978, 979, 980, 981, 982, 983, 984, 985, 986, 987, 988, 989, 990, 991, 992, 993, 994, 995, 996, 997, 998, 999, 1000, 1001, 1002, 1003, 1004, 1005, 1006, 1007, 1008, 1009, 1010, 1011, 1012, 1013, 1014, 1015, 1016, 1017, 1018, 1019, 1020, 1021, 1022, 1023, 1024, 1025, 1026, 1027, 1028, 1029, 1030, 1031, 1032, 1033, 1034, 1035, 1036, 1037, 1038, 1039, 1040, 1041, 1042, 1043, 1044, 1045, 1046, 1047, 1048, 1049, 1050, 1051, 1052, 1053, 1054, 1055, 1056, 1057, 1058, 1059, 1060, 1061, 1062, 1063, 1064, 1065, 1066, 1067, 1068, 1069, 1070, 1071, 1072, 1073, 1074, 1075, 1076, 1077, 1078, 1079, 1080, 1081, 1082, 1083, 1084, 1085, 1086, 1087, 1088, 1089, 1090, 1091, 1092, 1093, 1094, 1095, 1096, 1097, 1098, 1099, 1100, 1101, 1102, 1103, 1104, 1105, 1106, 1107, 1108, 1109, 1110, 1111, 1112, 1113, 1114, 1115, 1116, 1117, 1118, 1119, 1120, 1121, 1122, 1123, 1124, 1125, 1126, 1127, 1128, 1129, 1130, 1131, 1132, 1133, 1134, 1135, 1136, 1137, 1138, 1139]\n",
            "Количество id : 1139\n"
          ]
        }
      ]
    },
    {
      "cell_type": "markdown",
      "source": [
        "4. Получим список всех товаров, которые есть в файле."
      ],
      "metadata": {
        "id": "BSHazJg_w10e"
      }
    },
    {
      "cell_type": "code",
      "source": [
        "items = list(set(all_data[2]))\n",
        "print(f'Список товаров - {items}') #Выведем список всех товаров\n",
        "print(f'Количество товаров : {len(items)}')#Выведем количество товаров\n"
      ],
      "metadata": {
        "colab": {
          "base_uri": "https://localhost:8080/"
        },
        "id": "nusjB8z_w2Pe",
        "outputId": "aacd22e3-6602-4ec6-ac71-d4cfd68adf30"
      },
      "execution_count": 5,
      "outputs": [
        {
          "output_type": "stream",
          "name": "stdout",
          "text": [
            "Список товаров - ['coffee/tea', 'beef', 'pork', 'soda', 'all- purpose', 'poultry', 'waffles', 'butter', 'sandwich bags', 'laundry detergent', 'soap', 'dishwashing liquid/detergent', 'hand soap', 'fruits', 'vegetables', 'tortillas', 'pasta', 'toilet paper', 'yogurt', 'sandwich loaves', 'flour', 'ketchup', 'ice cream', 'lunch meat', 'spaghetti sauce', 'milk', 'cereals', 'paper towels', 'sugar', 'bagels', 'mixes', 'aluminum foil', 'eggs', 'cheeses', 'individual meals', 'shampoo', 'juice', 'dinner rolls']\n",
            "Количество товаров : 38\n"
          ]
        }
      ]
    },
    {
      "cell_type": "markdown",
      "source": [
        "5. Далее необходимо сформировать датасет подходящий для частотного анализа. Для этого\n",
        "надо слить все товары одного покупателя в один список. Для дальнейшего частотного\n",
        "анализа id покупателя будет не нужен\n"
      ],
      "metadata": {
        "id": "ElHpw0LTzez6"
      }
    },
    {
      "cell_type": "code",
      "source": [
        "dataset = [[elem for elem in all_data[all_data[1] == id][2] if elem in\n",
        "items] for id in unique_id]"
      ],
      "metadata": {
        "id": "6m4qVJ9nzpgv"
      },
      "execution_count": 6,
      "outputs": []
    },
    {
      "cell_type": "markdown",
      "source": [
        "# Подготовка данны"
      ],
      "metadata": {
        "id": "mZxdDbph0H0u"
      }
    },
    {
      "cell_type": "markdown",
      "source": [
        "1. Так как полученные датасет не пригоден для анализа напрямую, так как каждый список\n",
        "пользователя может содержать разное количество товаров. Поэтому данные надо\n",
        "закодировать так, чтобы их можно было представить в виде матрицы. Для кодированния\n",
        "данных используем TransactionEncoder"
      ],
      "metadata": {
        "id": "D5_Us8F00OCC"
      }
    },
    {
      "cell_type": "code",
      "source": [
        "from mlxtend.preprocessing import TransactionEncoder\n",
        "\n",
        "te = TransactionEncoder()\n",
        "te_ary = te.fit(dataset).transform(dataset)\n",
        "df = pd.DataFrame(te_ary, columns=te.columns_)\n"
      ],
      "metadata": {
        "id": "sBf5PIS_0Qao"
      },
      "execution_count": 7,
      "outputs": []
    },
    {
      "cell_type": "markdown",
      "source": [
        "**TransactionEncoder** позволил преобразовать список элементов в данные транзакций для частотного анализа набора элементов."
      ],
      "metadata": {
        "id": "f1ooWuW32Ysz"
      }
    },
    {
      "cell_type": "markdown",
      "source": [],
      "metadata": {
        "id": "ri93Mw1E2w-H"
      }
    },
    {
      "cell_type": "markdown",
      "source": [
        "2. Выведите полученный dataframe и объясните, как стали представляться данные"
      ],
      "metadata": {
        "id": "o6e9tksO0oQT"
      }
    },
    {
      "cell_type": "code",
      "source": [
        "print(df)"
      ],
      "metadata": {
        "colab": {
          "base_uri": "https://localhost:8080/"
        },
        "id": "crDIoq-_0pT6",
        "outputId": "b97a2b76-9f09-4899-f1f9-4cf2ac46cb56"
      },
      "execution_count": 8,
      "outputs": [
        {
          "output_type": "stream",
          "name": "stdout",
          "text": [
            "      all- purpose  aluminum foil  bagels   beef  butter  cereals  cheeses  \\\n",
            "0             True           True   False   True    True    False    False   \n",
            "1            False           True   False  False   False     True     True   \n",
            "2            False          False    True  False   False     True     True   \n",
            "3             True          False   False  False   False     True    False   \n",
            "4             True          False   False  False   False    False    False   \n",
            "...            ...            ...     ...    ...     ...      ...      ...   \n",
            "1134          True          False   False   True   False     True     True   \n",
            "1135         False          False   False  False   False     True     True   \n",
            "1136         False          False    True   True   False    False    False   \n",
            "1137          True          False   False   True   False    False     True   \n",
            "1138         False          False   False  False   False    False    False   \n",
            "\n",
            "      coffee/tea  dinner rolls  dishwashing liquid/detergent  ...  shampoo  \\\n",
            "0          False          True                         False  ...     True   \n",
            "1          False         False                          True  ...     True   \n",
            "2          False          True                         False  ...     True   \n",
            "3          False         False                         False  ...    False   \n",
            "4          False          True                         False  ...    False   \n",
            "...          ...           ...                           ...  ...      ...   \n",
            "1134        True          True                          True  ...     True   \n",
            "1135        True          True                          True  ...    False   \n",
            "1136       False          True                          True  ...     True   \n",
            "1137       False         False                         False  ...    False   \n",
            "1138       False         False                         False  ...     True   \n",
            "\n",
            "       soap   soda  spaghetti sauce  sugar  toilet paper  tortillas  \\\n",
            "0      True   True            False  False         False      False   \n",
            "1     False  False            False  False          True       True   \n",
            "2      True   True             True  False          True      False   \n",
            "3     False   True            False  False          True      False   \n",
            "4     False   True             True  False          True       True   \n",
            "...     ...    ...              ...    ...           ...        ...   \n",
            "1134   True  False            False   True         False      False   \n",
            "1135   True  False             True  False         False      False   \n",
            "1136   True  False            False   True         False       True   \n",
            "1137   True   True             True   True          True      False   \n",
            "1138  False   True            False  False         False      False   \n",
            "\n",
            "      vegetables  waffles  yogurt  \n",
            "0           True    False    True  \n",
            "1           True     True    True  \n",
            "2           True    False   False  \n",
            "3          False    False   False  \n",
            "4           True     True    True  \n",
            "...          ...      ...     ...  \n",
            "1134       False    False   False  \n",
            "1135        True    False   False  \n",
            "1136        True    False    True  \n",
            "1137        True     True    True  \n",
            "1138        True    False   False  \n",
            "\n",
            "[1139 rows x 38 columns]\n"
          ]
        }
      ]
    },
    {
      "cell_type": "markdown",
      "source": [
        "Данные стали представлясться в виде таблицы размерностью 1139 строк(id покупателей) и 38 столбцов(категории товаров). Каждый покупатель иммеет свою корзину покупок и в таблице в формате TRUE и FALSE указано какой товар присутствует в корзине. TRUE - товар в корзине покупателя, FALSE - товара нет в корзине покупателя. Однако в таблице не указываются повторяющиеся категории товаров в корзине одного покупателя. Например, у покупателя под номером id = 0 в корзине имеются две категории all- purpose(универсальность), но в таблице указывается только наличие этой категории."
      ],
      "metadata": {
        "id": "9qGGxBWI1rsc"
      }
    },
    {
      "cell_type": "markdown",
      "source": [
        "# Ассоциативный анализ с использованием алгоритма Apriori\n"
      ],
      "metadata": {
        "id": "2TGlICuj9v_f"
      }
    },
    {
      "cell_type": "markdown",
      "source": [
        "1. Применим алгоритм apriori с минимальным уровнем поддержки 0.3"
      ],
      "metadata": {
        "id": "tGPi_GJ5922_"
      }
    },
    {
      "cell_type": "code",
      "source": [
        "from mlxtend.frequent_patterns import apriori\n",
        "results = apriori(df, min_support=0.3, use_colnames=True)\n",
        "results['length'] = results['itemsets'].apply(lambda x: len(x)) #добавление размера набора\n",
        "print(results)"
      ],
      "metadata": {
        "colab": {
          "base_uri": "https://localhost:8080/"
        },
        "id": "jc_VmwTx7YVl",
        "outputId": "830111f8-d0ee-4400-91be-574cec639298"
      },
      "execution_count": 9,
      "outputs": [
        {
          "output_type": "stream",
          "name": "stdout",
          "text": [
            "     support                                    itemsets  length\n",
            "0   0.374890                              (all- purpose)       1\n",
            "1   0.384548                             (aluminum foil)       1\n",
            "2   0.385426                                    (bagels)       1\n",
            "3   0.374890                                      (beef)       1\n",
            "4   0.367867                                    (butter)       1\n",
            "5   0.395961                                   (cereals)       1\n",
            "6   0.390694                                   (cheeses)       1\n",
            "7   0.379280                                (coffee/tea)       1\n",
            "8   0.388938                              (dinner rolls)       1\n",
            "9   0.388060              (dishwashing liquid/detergent)       1\n",
            "10  0.389816                                      (eggs)       1\n",
            "11  0.352941                                     (flour)       1\n",
            "12  0.370500                                    (fruits)       1\n",
            "13  0.345917                                 (hand soap)       1\n",
            "14  0.398595                                 (ice cream)       1\n",
            "15  0.375768                          (individual meals)       1\n",
            "16  0.376646                                     (juice)       1\n",
            "17  0.371378                                   (ketchup)       1\n",
            "18  0.378402                         (laundry detergent)       1\n",
            "19  0.395083                                (lunch meat)       1\n",
            "20  0.380158                                      (milk)       1\n",
            "21  0.375768                                     (mixes)       1\n",
            "22  0.362599                              (paper towels)       1\n",
            "23  0.371378                                     (pasta)       1\n",
            "24  0.355575                                      (pork)       1\n",
            "25  0.421422                                   (poultry)       1\n",
            "26  0.367867                             (sandwich bags)       1\n",
            "27  0.349429                           (sandwich loaves)       1\n",
            "28  0.368745                                   (shampoo)       1\n",
            "29  0.379280                                      (soap)       1\n",
            "30  0.390694                                      (soda)       1\n",
            "31  0.373134                           (spaghetti sauce)       1\n",
            "32  0.360843                                     (sugar)       1\n",
            "33  0.378402                              (toilet paper)       1\n",
            "34  0.369622                                 (tortillas)       1\n",
            "35  0.739245                                (vegetables)       1\n",
            "36  0.394205                                   (waffles)       1\n",
            "37  0.384548                                    (yogurt)       1\n",
            "38  0.310799                 (aluminum foil, vegetables)       2\n",
            "39  0.300263                        (vegetables, bagels)       2\n",
            "40  0.310799                       (vegetables, cereals)       2\n",
            "41  0.309043                       (vegetables, cheeses)       2\n",
            "42  0.308165                  (vegetables, dinner rolls)       2\n",
            "43  0.306409  (vegetables, dishwashing liquid/detergent)       2\n",
            "44  0.326602                          (eggs, vegetables)       2\n",
            "45  0.302897                     (vegetables, ice cream)       2\n",
            "46  0.309043             (vegetables, laundry detergent)       2\n",
            "47  0.311677                    (vegetables, lunch meat)       2\n",
            "48  0.331870                       (vegetables, poultry)       2\n",
            "49  0.305531                          (vegetables, soda)       2\n",
            "50  0.315189                       (vegetables, waffles)       2\n",
            "51  0.319579                        (vegetables, yogurt)       2\n"
          ]
        }
      ]
    },
    {
      "cell_type": "markdown",
      "source": [
        "При помощи алгоритма apriori получилось вывести перечень товаровов при минимальной поддержке 0.3(30% от общего числа транзакций). Например, vegetables (овощи) из числа всех транзакций встречается в 73.9% случаях в корзинах покупателей, тем самым является одним из самых продаваемых категорий среди всех товара. А набор из двух категорий, такой как poultry, vegetables (птицеводство и овощи) встречается в корзинах с вероятностью 33%."
      ],
      "metadata": {
        "id": "oVks1K3fGJ8Z"
      }
    },
    {
      "cell_type": "markdown",
      "source": [
        "2. Применим алгоритм apriori с тем же уровнем поддержки, но ограничим максимальный\n",
        "размер набора единицей"
      ],
      "metadata": {
        "id": "xDKFKobMMijD"
      }
    },
    {
      "cell_type": "code",
      "source": [
        "results = apriori(df, min_support=0.3, use_colnames=True, max_len=1)\n",
        "print(results)"
      ],
      "metadata": {
        "colab": {
          "base_uri": "https://localhost:8080/"
        },
        "id": "RK7L0kCMMlS9",
        "outputId": "d028cfda-b77c-4311-df07-d649612bb59e"
      },
      "execution_count": 10,
      "outputs": [
        {
          "output_type": "stream",
          "name": "stdout",
          "text": [
            "     support                        itemsets\n",
            "0   0.374890                  (all- purpose)\n",
            "1   0.384548                 (aluminum foil)\n",
            "2   0.385426                        (bagels)\n",
            "3   0.374890                          (beef)\n",
            "4   0.367867                        (butter)\n",
            "5   0.395961                       (cereals)\n",
            "6   0.390694                       (cheeses)\n",
            "7   0.379280                    (coffee/tea)\n",
            "8   0.388938                  (dinner rolls)\n",
            "9   0.388060  (dishwashing liquid/detergent)\n",
            "10  0.389816                          (eggs)\n",
            "11  0.352941                         (flour)\n",
            "12  0.370500                        (fruits)\n",
            "13  0.345917                     (hand soap)\n",
            "14  0.398595                     (ice cream)\n",
            "15  0.375768              (individual meals)\n",
            "16  0.376646                         (juice)\n",
            "17  0.371378                       (ketchup)\n",
            "18  0.378402             (laundry detergent)\n",
            "19  0.395083                    (lunch meat)\n",
            "20  0.380158                          (milk)\n",
            "21  0.375768                         (mixes)\n",
            "22  0.362599                  (paper towels)\n",
            "23  0.371378                         (pasta)\n",
            "24  0.355575                          (pork)\n",
            "25  0.421422                       (poultry)\n",
            "26  0.367867                 (sandwich bags)\n",
            "27  0.349429               (sandwich loaves)\n",
            "28  0.368745                       (shampoo)\n",
            "29  0.379280                          (soap)\n",
            "30  0.390694                          (soda)\n",
            "31  0.373134               (spaghetti sauce)\n",
            "32  0.360843                         (sugar)\n",
            "33  0.378402                  (toilet paper)\n",
            "34  0.369622                     (tortillas)\n",
            "35  0.739245                    (vegetables)\n",
            "36  0.394205                       (waffles)\n",
            "37  0.384548                        (yogurt)\n"
          ]
        },
        {
          "output_type": "stream",
          "name": "stderr",
          "text": [
            "/usr/local/lib/python3.10/dist-packages/ipykernel/ipkernel.py:283: DeprecationWarning: `should_run_async` will not call `transform_cell` automatically in the future. Please pass the result to `transformed_cell` argument and any exception that happen during thetransform in `preprocessing_exc_tuple` in IPython 7.17 and above.\n",
            "  and should_run_async(code)\n"
          ]
        }
      ]
    },
    {
      "cell_type": "markdown",
      "source": [
        "В данной таблице приведены товары с максимальный набором 1, то есть все категории и их вероятность нахождения в покупательских корзинах."
      ],
      "metadata": {
        "id": "Ekany5r6NBVU"
      }
    },
    {
      "cell_type": "markdown",
      "source": [
        "3. Применим алгоритм apriori и выведем только те наборы, которые имеют размер 2, а также\n",
        "количество таких наборов"
      ],
      "metadata": {
        "id": "azmXRVg-Myz-"
      }
    },
    {
      "cell_type": "code",
      "source": [
        "results = apriori(df, min_support=0.3, use_colnames=True)\n",
        "results['length'] = results['itemsets'].apply(lambda x: len(x))\n",
        "results = results[results['length'] == 2]\n",
        "print(results)\n",
        "print('\\nКол-во транзакций = ',len(results))"
      ],
      "metadata": {
        "colab": {
          "base_uri": "https://localhost:8080/"
        },
        "id": "Y0af4UuAM0sF",
        "outputId": "43e004ec-b487-4903-9b70-44cc210e1aa6"
      },
      "execution_count": 11,
      "outputs": [
        {
          "output_type": "stream",
          "name": "stdout",
          "text": [
            "     support                                    itemsets  length\n",
            "38  0.310799                 (aluminum foil, vegetables)       2\n",
            "39  0.300263                        (vegetables, bagels)       2\n",
            "40  0.310799                       (vegetables, cereals)       2\n",
            "41  0.309043                       (vegetables, cheeses)       2\n",
            "42  0.308165                  (vegetables, dinner rolls)       2\n",
            "43  0.306409  (vegetables, dishwashing liquid/detergent)       2\n",
            "44  0.326602                          (eggs, vegetables)       2\n",
            "45  0.302897                     (vegetables, ice cream)       2\n",
            "46  0.309043             (vegetables, laundry detergent)       2\n",
            "47  0.311677                    (vegetables, lunch meat)       2\n",
            "48  0.331870                       (vegetables, poultry)       2\n",
            "49  0.305531                          (vegetables, soda)       2\n",
            "50  0.315189                       (vegetables, waffles)       2\n",
            "51  0.319579                        (vegetables, yogurt)       2\n",
            "\n",
            "Кол-во транзакций =  14\n"
          ]
        },
        {
          "output_type": "stream",
          "name": "stderr",
          "text": [
            "/usr/local/lib/python3.10/dist-packages/ipykernel/ipkernel.py:283: DeprecationWarning: `should_run_async` will not call `transform_cell` automatically in the future. Please pass the result to `transformed_cell` argument and any exception that happen during thetransform in `preprocessing_exc_tuple` in IPython 7.17 and above.\n",
            "  and should_run_async(code)\n"
          ]
        }
      ]
    },
    {
      "cell_type": "markdown",
      "source": [
        "В данной таблице приведены товары с максимальный набором 2 и вероятность их\n",
        "нахождения в покупательских корзинах."
      ],
      "metadata": {
        "id": "G5SU1hh7PHK_"
      }
    },
    {
      "cell_type": "markdown",
      "source": [
        "4. Посчитайте количество наборов при различных уровнях поддержки. Начальное значение\n",
        "поддержки 0.05, шаг 0.01. Постройте график зависимости количества наборов от уровня\n",
        "поддержки"
      ],
      "metadata": {
        "id": "0Ck5E_RbPQhY"
      }
    },
    {
      "cell_type": "code",
      "source": [
        "import matplotlib.pyplot as plt\n",
        "\n",
        "min_support_range = np.arange(0.05, 0.75, 0.01)\n",
        "\n",
        "itemsets_lenghts = []\n",
        "for min_support in min_support_range:\n",
        "    res = apriori(df, min_support=min_support, use_colnames=True)\n",
        "    itemsets_lenghts.append(len(res))\n",
        "\n",
        "plt.figure(figsize=(15, 10))\n",
        "plt.xlabel('Уровень поддержки')\n",
        "plt.ylabel('Кол-во наборов')\n",
        "plt.plot(min_support_range.tolist(), itemsets_lenghts)\n",
        "plt.show()\n"
      ],
      "metadata": {
        "colab": {
          "base_uri": "https://localhost:8080/",
          "height": 905
        },
        "id": "tvhyR12iPVDA",
        "outputId": "bb6f0cde-6d41-4efa-c54f-1839f816311b"
      },
      "execution_count": 12,
      "outputs": [
        {
          "output_type": "stream",
          "name": "stderr",
          "text": [
            "/usr/local/lib/python3.10/dist-packages/ipykernel/ipkernel.py:283: DeprecationWarning: `should_run_async` will not call `transform_cell` automatically in the future. Please pass the result to `transformed_cell` argument and any exception that happen during thetransform in `preprocessing_exc_tuple` in IPython 7.17 and above.\n",
            "  and should_run_async(code)\n"
          ]
        },
        {
          "output_type": "display_data",
          "data": {
            "text/plain": [
              "<Figure size 1500x1000 with 1 Axes>"
            ],
            "image/png": "[encoded data removed]"
          },
          "metadata": {}
        }
      ]
    },
    {
      "cell_type": "markdown",
      "source": [
        "Примерно из 15750 транзакций, при поддержке min_support = 0,05(5%), существует набор(корзина) из n категорий. При поддержке min_support = 0,3(30%), количество транзакций состваляет 52, включающих в себя наборы из 1-2 товаров(исходя из таблицы) и на графике это можно увидеть."
      ],
      "metadata": {
        "id": "4pRxZJMUyYN9"
      }
    },
    {
      "cell_type": "markdown",
      "source": [
        "5. Определите значение уровня поддержки при котором перестают генерироваться наборы\n",
        "размера 1,2,3, и.т.д. Отметьте полученные уровни поддержки на графике построенном в\n",
        "пункте 4"
      ],
      "metadata": {
        "id": "bAyQgyyx4zDx"
      }
    },
    {
      "cell_type": "code",
      "source": [
        "from math import isnan\n",
        "\n",
        "itemsets_lenghts = []\n",
        "minimum_supports = []\n",
        "minimum_lenghts = []\n",
        "\n",
        "last_itemset_len = len(df.columns)\n",
        "\n",
        "for min_support in min_support_range:\n",
        "    res = apriori(df, min_support=min_support, use_colnames=True)\n",
        "    itemsets_lenghts.append(len(res))\n",
        "\n",
        "    res['lenght'] = res['itemsets'].apply(lambda x: len(x))\n",
        "    current_itemset_max_len = res['lenght'].max()\n",
        "\n",
        "    if isnan(current_itemset_max_len):\n",
        "      current_itemset_max_len = 0\n",
        "\n",
        "    if current_itemset_max_len < last_itemset_len:\n",
        "      last_itemset_len = current_itemset_max_len\n",
        "      minimum_supports.append(min_support)\n",
        "      minimum_lenghts.append(len(res))\n",
        "\n",
        "plt.figure(figsize=(15, 10))\n",
        "plt.xlabel('Уровень поддержки')\n",
        "plt.ylabel('Кол-во наборов')\n",
        "plt.plot(min_support_range.tolist(), itemsets_lenghts)\n",
        "plt.plot(minimum_supports, minimum_lenghts, 'ro')\n",
        "plt.show()"
      ],
      "metadata": {
        "colab": {
          "base_uri": "https://localhost:8080/",
          "height": 905
        },
        "id": "ogc_fdBd4ypu",
        "outputId": "b87809b4-0770-4235-b25c-3855b306f224"
      },
      "execution_count": 13,
      "outputs": [
        {
          "output_type": "stream",
          "name": "stderr",
          "text": [
            "/usr/local/lib/python3.10/dist-packages/ipykernel/ipkernel.py:283: DeprecationWarning: `should_run_async` will not call `transform_cell` automatically in the future. Please pass the result to `transformed_cell` argument and any exception that happen during thetransform in `preprocessing_exc_tuple` in IPython 7.17 and above.\n",
            "  and should_run_async(code)\n"
          ]
        },
        {
          "output_type": "display_data",
          "data": {
            "text/plain": [
              "<Figure size 1500x1000 with 1 Axes>"
            ],
            "image/png": "[encoded data removed]"
          },
          "metadata": {}
        }
      ]
    },
    {
      "cell_type": "markdown",
      "source": [
        "Ориентируясь по графику спрва - налево по указанным точкам и используя таблицу, полученную в пункте 1, можно сделать вывод о том, что между 1 и 2 точкой генерируются набор из 1 количества товара, между точками 2 и 3 генерируются наборы из 2 товаров. Между точками 3 и 4 наборы из 3 товаров и между точками 4 и 5 наборы из 4 товаров"
      ],
      "metadata": {
        "id": "exR23oJa_m0F"
      }
    },
    {
      "cell_type": "markdown",
      "source": [
        "6. Построим датасет только из тех элементов, которые попадают в наборы размером 1 при\n",
        "уровне поддержки 0.38"
      ],
      "metadata": {
        "id": "5pQDYp48BOqy"
      }
    },
    {
      "cell_type": "code",
      "source": [
        "results = apriori(df, min_support=0.38, use_colnames=True, max_len=1)\n",
        "new_items = [ list(elem)[0] for elem in results['itemsets']]\n",
        "new_dataset = [[elem for elem in all_data[all_data[1] == id][2] if elem in\n",
        "new_items] for id in unique_id]"
      ],
      "metadata": {
        "id": "_D9H-dFEBRPZ",
        "colab": {
          "base_uri": "https://localhost:8080/"
        },
        "outputId": "9af0ad0a-0dfe-4068-9f77-bbd3b9dca5b9"
      },
      "execution_count": 20,
      "outputs": [
        {
          "output_type": "stream",
          "name": "stderr",
          "text": [
            "/usr/local/lib/python3.10/dist-packages/ipykernel/ipkernel.py:283: DeprecationWarning: `should_run_async` will not call `transform_cell` automatically in the future. Please pass the result to `transformed_cell` argument and any exception that happen during thetransform in `preprocessing_exc_tuple` in IPython 7.17 and above.\n",
            "  and should_run_async(code)\n"
          ]
        }
      ]
    },
    {
      "cell_type": "markdown",
      "source": [
        "Миниммальный уровень поддержи - min_support=0.38\n",
        "\n",
        "---\n",
        "Набор состоит из одного товара - max_len=1\n"
      ],
      "metadata": {
        "id": "za2ySoUFDnwL"
      }
    },
    {
      "cell_type": "markdown",
      "source": [
        "7. Приведите полученный датасет к формату, который можно обработать\n"
      ],
      "metadata": {
        "id": "fhHhjHtrBeRp"
      }
    },
    {
      "cell_type": "code",
      "source": [
        "te = TransactionEncoder()\n",
        "te_ary = te.fit(new_dataset).transform(new_dataset)\n",
        "df = pd.DataFrame(te_ary, columns=te.columns_)\n",
        "print(df)"
      ],
      "metadata": {
        "colab": {
          "base_uri": "https://localhost:8080/"
        },
        "id": "zSryNXBnBhSL",
        "outputId": "973a9eb0-fd01-4e04-891f-53c6d778a41d"
      },
      "execution_count": 21,
      "outputs": [
        {
          "output_type": "stream",
          "name": "stdout",
          "text": [
            "      aluminum foil  bagels  cereals  cheeses  dinner rolls  \\\n",
            "0              True   False    False    False          True   \n",
            "1              True   False     True     True         False   \n",
            "2             False    True     True     True          True   \n",
            "3             False   False     True    False         False   \n",
            "4             False   False    False    False          True   \n",
            "...             ...     ...      ...      ...           ...   \n",
            "1134          False   False     True     True          True   \n",
            "1135          False   False     True     True          True   \n",
            "1136          False    True    False    False          True   \n",
            "1137          False   False    False     True         False   \n",
            "1138          False   False    False    False         False   \n",
            "\n",
            "      dishwashing liquid/detergent   eggs  ice cream  lunch meat   milk  \\\n",
            "0                            False  False       True        True  False   \n",
            "1                             True  False      False       False   True   \n",
            "2                            False   True       True        True   True   \n",
            "3                            False  False      False        True  False   \n",
            "4                            False   True      False       False   True   \n",
            "...                            ...    ...        ...         ...    ...   \n",
            "1134                          True  False       True       False  False   \n",
            "1135                          True   True      False        True   True   \n",
            "1136                          True   True      False        True  False   \n",
            "1137                         False  False      False       False   True   \n",
            "1138                         False  False      False       False  False   \n",
            "\n",
            "      poultry   soda  vegetables  waffles  yogurt  \n",
            "0       False   True        True    False    True  \n",
            "1       False  False        True     True    True  \n",
            "2        True   True        True    False   False  \n",
            "3       False   True       False    False   False  \n",
            "4        True   True        True     True    True  \n",
            "...       ...    ...         ...      ...     ...  \n",
            "1134     True  False       False    False   False  \n",
            "1135     True  False        True    False   False  \n",
            "1136     True  False        True    False    True  \n",
            "1137     True   True        True     True    True  \n",
            "1138    False   True        True    False   False  \n",
            "\n",
            "[1139 rows x 15 columns]\n"
          ]
        },
        {
          "output_type": "stream",
          "name": "stderr",
          "text": [
            "/usr/local/lib/python3.10/dist-packages/ipykernel/ipkernel.py:283: DeprecationWarning: `should_run_async` will not call `transform_cell` automatically in the future. Please pass the result to `transformed_cell` argument and any exception that happen during thetransform in `preprocessing_exc_tuple` in IPython 7.17 and above.\n",
            "  and should_run_async(code)\n"
          ]
        }
      ]
    },
    {
      "cell_type": "markdown",
      "source": [
        "Была сформирована таблица размерностью 1139 строк(id покупателей) и 15 столбцов(категории товаров). В данной таблице уменьшилось кол-во товаров, так как их вероятность попадания в покупательские корзины(наборы) < 38%"
      ],
      "metadata": {
        "id": "J3SrQ7fRELdx"
      }
    },
    {
      "cell_type": "markdown",
      "source": [
        "8. Проведите ассоциативный анализ при уровне поддержки 0.3 для нового датасета. Опишите\n",
        "в чем сходства и различия"
      ],
      "metadata": {
        "id": "tjf0mkfuDVFF"
      }
    },
    {
      "cell_type": "code",
      "source": [
        "results = apriori(df, min_support=0.3, use_colnames=True, max_len=1)\n",
        "print(results)"
      ],
      "metadata": {
        "colab": {
          "base_uri": "https://localhost:8080/"
        },
        "id": "kndYdaz0DQXy",
        "outputId": "f488f59f-9bb0-46dd-d974-aa9c3a71ade2"
      },
      "execution_count": 16,
      "outputs": [
        {
          "output_type": "stream",
          "name": "stdout",
          "text": [
            "     support                        itemsets\n",
            "0   0.384548                 (aluminum foil)\n",
            "1   0.385426                        (bagels)\n",
            "2   0.395961                       (cereals)\n",
            "3   0.390694                       (cheeses)\n",
            "4   0.388938                  (dinner rolls)\n",
            "5   0.388060  (dishwashing liquid/detergent)\n",
            "6   0.389816                          (eggs)\n",
            "7   0.398595                     (ice cream)\n",
            "8   0.395083                    (lunch meat)\n",
            "9   0.380158                          (milk)\n",
            "10  0.421422                       (poultry)\n",
            "11  0.390694                          (soda)\n",
            "12  0.739245                    (vegetables)\n",
            "13  0.394205                       (waffles)\n",
            "14  0.384548                        (yogurt)\n"
          ]
        },
        {
          "output_type": "stream",
          "name": "stderr",
          "text": [
            "/usr/local/lib/python3.10/dist-packages/ipykernel/ipkernel.py:283: DeprecationWarning: `should_run_async` will not call `transform_cell` automatically in the future. Please pass the result to `transformed_cell` argument and any exception that happen during thetransform in `preprocessing_exc_tuple` in IPython 7.17 and above.\n",
            "  and should_run_async(code)\n"
          ]
        }
      ]
    },
    {
      "cell_type": "markdown",
      "source": [
        "Аналогично при помощи алгоритма apriori получилось вывести перечень товаровов при минимальной поддержке 0.3(30% от общего числа транзакций). Минимальный набор в который входит 1 товар является - milk, вероятность нахождения в наборе относительно всех транзакций составляет 38,02%."
      ],
      "metadata": {
        "id": "N85XyynpEwPu"
      }
    },
    {
      "cell_type": "markdown",
      "source": [
        "9. Проведите ассоциативный анализ при уровне поддержки 0.15 для нового датасета.\n",
        "Выведите все наборы размер которых больше 1 и в котором есть 'yogurt' или 'waffles'"
      ],
      "metadata": {
        "id": "-ESNbcJnFdbN"
      }
    },
    {
      "cell_type": "code",
      "source": [
        "results = apriori(df, min_support=0.15, use_colnames=True)\n",
        "results['length'] = results['itemsets'].apply(lambda x: len(x))\n",
        "results = results[results['length'] > 1 ]\n",
        "results = results[results['itemsets'].apply(lambda x: ('yogurt' in x) or ('waffles' in x))]\n",
        "rows_count = len(results)\n",
        "print(results)\n",
        "print(f'Кол-во транзакций : {rows_count}')"
      ],
      "metadata": {
        "colab": {
          "base_uri": "https://localhost:8080/"
        },
        "id": "st_hHKt4FdID",
        "outputId": "b6eadd07-2cda-4854-a55c-2b6f2995a685"
      },
      "execution_count": 17,
      "outputs": [
        {
          "output_type": "stream",
          "name": "stdout",
          "text": [
            "      support                                 itemsets  length\n",
            "27   0.169447                 (aluminum foil, waffles)       2\n",
            "28   0.177349                  (aluminum foil, yogurt)       2\n",
            "40   0.159789                        (bagels, waffles)       2\n",
            "41   0.162423                         (bagels, yogurt)       2\n",
            "52   0.160667                       (waffles, cereals)       2\n",
            "53   0.172081                        (yogurt, cereals)       2\n",
            "63   0.172959                       (cheeses, waffles)       2\n",
            "64   0.172081                        (cheeses, yogurt)       2\n",
            "73   0.169447                  (waffles, dinner rolls)       2\n",
            "74   0.166813                   (yogurt, dinner rolls)       2\n",
            "82   0.175593  (dishwashing liquid/detergent, waffles)       2\n",
            "83   0.158033   (dishwashing liquid/detergent, yogurt)       2\n",
            "90   0.169447                          (eggs, waffles)       2\n",
            "91   0.174715                           (eggs, yogurt)       2\n",
            "97   0.172959                     (ice cream, waffles)       2\n",
            "98   0.156277                      (ice cream, yogurt)       2\n",
            "103  0.184372                    (waffles, lunch meat)       2\n",
            "104  0.161545                     (lunch meat, yogurt)       2\n",
            "108  0.167691                           (milk, yogurt)       2\n",
            "111  0.166813                       (poultry, waffles)       2\n",
            "112  0.180860                        (poultry, yogurt)       2\n",
            "114  0.177349                          (soda, waffles)       2\n",
            "115  0.167691                           (soda, yogurt)       2\n",
            "116  0.315189                    (vegetables, waffles)       2\n",
            "117  0.319579                     (vegetables, yogurt)       2\n",
            "118  0.173837                        (waffles, yogurt)       2\n",
            "119  0.152766      (aluminum foil, vegetables, yogurt)       3\n",
            "128  0.157155               (eggs, vegetables, yogurt)       3\n",
            "130  0.157155        (vegetables, waffles, lunch meat)       3\n",
            "131  0.152766            (vegetables, poultry, yogurt)       3\n",
            "Кол-во транзакций : 30\n"
          ]
        },
        {
          "output_type": "stream",
          "name": "stderr",
          "text": [
            "/usr/local/lib/python3.10/dist-packages/ipykernel/ipkernel.py:283: DeprecationWarning: `should_run_async` will not call `transform_cell` automatically in the future. Please pass the result to `transformed_cell` argument and any exception that happen during thetransform in `preprocessing_exc_tuple` in IPython 7.17 and above.\n",
            "  and should_run_async(code)\n"
          ]
        }
      ]
    },
    {
      "cell_type": "markdown",
      "source": [
        "Проведя ассоциативный анализ при минимальном уровне поддержки min_support=0.15 (15% и больше)\n",
        ", waffles и yogurt встречаются в 30 транзакциях в наборах из 2 и 3 товаров."
      ],
      "metadata": {
        "id": "jysu3bhPGzPU"
      }
    },
    {
      "cell_type": "markdown",
      "source": [
        "10. Постройте датасет, из тех элементов, которые не попали в датасет в п. 6 и приведите его к\n",
        "удобному для анализа виду\n"
      ],
      "metadata": {
        "id": "Env_nmwCxrty"
      }
    },
    {
      "cell_type": "code",
      "source": [
        "te = TransactionEncoder()\n",
        "te_ary = te.fit(dataset).transform(dataset)\n",
        "df_data = pd.DataFrame(te_ary, columns=te.columns_)\n",
        "\n",
        "dif_data = df_data[df_data.columns.difference(new_items)]\n",
        "\n",
        "print(dif_data)"
      ],
      "metadata": {
        "colab": {
          "base_uri": "https://localhost:8080/"
        },
        "id": "8GEbgtUSxvZe",
        "outputId": "3023d9fb-0e4f-46d9-b274-7ca8daeb6d28"
      },
      "execution_count": 19,
      "outputs": [
        {
          "output_type": "stream",
          "name": "stdout",
          "text": [
            "      all- purpose   beef  butter  coffee/tea  flour  fruits  hand soap  \\\n",
            "0             True   True    True       False   True   False      False   \n",
            "1            False  False   False       False  False   False       True   \n",
            "2            False  False   False       False  False   False       True   \n",
            "3             True  False   False       False  False   False      False   \n",
            "4             True  False   False       False   True   False       True   \n",
            "...            ...    ...     ...         ...    ...     ...        ...   \n",
            "1134          True   True   False        True  False    True       True   \n",
            "1135         False  False   False        True  False   False       True   \n",
            "1136         False   True   False       False  False   False       True   \n",
            "1137          True   True   False       False  False   False      False   \n",
            "1138         False  False   False       False  False   False      False   \n",
            "\n",
            "      individual meals  juice  ketchup  ...  pasta   pork  sandwich bags  \\\n",
            "0                False  False    False  ...  False   True           True   \n",
            "1                 True  False    False  ...  False  False           True   \n",
            "2                False  False     True  ...  False   True          False   \n",
            "3                False   True    False  ...  False  False          False   \n",
            "4                 True  False    False  ...   True   True          False   \n",
            "...                ...    ...      ...  ...    ...    ...            ...   \n",
            "1134             False   True    False  ...  False   True           True   \n",
            "1135              True  False    False  ...   True  False          False   \n",
            "1136              True   True    False  ...  False   True          False   \n",
            "1137             False  False     True  ...  False  False           True   \n",
            "1138             False  False    False  ...  False  False          False   \n",
            "\n",
            "      sandwich loaves  shampoo   soap  spaghetti sauce  sugar  toilet paper  \\\n",
            "0               False     True   True            False  False         False   \n",
            "1               False     True  False            False  False          True   \n",
            "2                True     True   True             True  False          True   \n",
            "3               False    False  False            False  False          True   \n",
            "4                True    False  False             True  False          True   \n",
            "...               ...      ...    ...              ...    ...           ...   \n",
            "1134            False     True   True            False   True         False   \n",
            "1135            False    False   True             True  False         False   \n",
            "1136            False     True   True            False   True         False   \n",
            "1137            False    False   True             True   True          True   \n",
            "1138            False     True  False            False  False         False   \n",
            "\n",
            "      tortillas  \n",
            "0         False  \n",
            "1          True  \n",
            "2         False  \n",
            "3         False  \n",
            "4          True  \n",
            "...         ...  \n",
            "1134      False  \n",
            "1135      False  \n",
            "1136       True  \n",
            "1137      False  \n",
            "1138      False  \n",
            "\n",
            "[1139 rows x 23 columns]\n"
          ]
        },
        {
          "output_type": "stream",
          "name": "stderr",
          "text": [
            "/usr/local/lib/python3.10/dist-packages/ipykernel/ipkernel.py:283: DeprecationWarning: `should_run_async` will not call `transform_cell` automatically in the future. Please pass the result to `transformed_cell` argument and any exception that happen during thetransform in `preprocessing_exc_tuple` in IPython 7.17 and above.\n",
            "  and should_run_async(code)\n"
          ]
        }
      ]
    },
    {
      "cell_type": "markdown",
      "source": [
        "Был получен датасет из 1139 транзакций и 23 товаров, которые не попали в датасет, потому что их уровень поддержки меньше 0,38. Вывод сделан исходя из прердыдущих про анализированных данных."
      ],
      "metadata": {
        "id": "uBVxaclo0p-4"
      }
    },
    {
      "cell_type": "markdown",
      "source": [
        "11. Проведите анализ apriori для полученного датасета"
      ],
      "metadata": {
        "id": "yQ3TENXc1dZz"
      }
    },
    {
      "cell_type": "code",
      "source": [
        "results = apriori(dif_data, min_support=0.15, use_colnames=True)\n",
        "print(results)"
      ],
      "metadata": {
        "colab": {
          "base_uri": "https://localhost:8080/"
        },
        "id": "DZrflEEm11yi",
        "outputId": "12b9e0b3-1447-4b9e-d03a-aba85cb88d10"
      },
      "execution_count": 24,
      "outputs": [
        {
          "output_type": "stream",
          "name": "stdout",
          "text": [
            "      support                         itemsets\n",
            "0    0.374890                   (all- purpose)\n",
            "1    0.374890                           (beef)\n",
            "2    0.367867                         (butter)\n",
            "3    0.379280                     (coffee/tea)\n",
            "4    0.352941                          (flour)\n",
            "..        ...                              ...\n",
            "128  0.154522                    (sugar, soap)\n",
            "129  0.164179             (soap, toilet paper)\n",
            "130  0.151888  (spaghetti sauce, toilet paper)\n",
            "131  0.151888            (sugar, toilet paper)\n",
            "132  0.156277        (tortillas, toilet paper)\n",
            "\n",
            "[133 rows x 2 columns]\n"
          ]
        },
        {
          "output_type": "stream",
          "name": "stderr",
          "text": [
            "/usr/local/lib/python3.10/dist-packages/ipykernel/ipkernel.py:283: DeprecationWarning: `should_run_async` will not call `transform_cell` automatically in the future. Please pass the result to `transformed_cell` argument and any exception that happen during thetransform in `preprocessing_exc_tuple` in IPython 7.17 and above.\n",
            "  and should_run_async(code)\n"
          ]
        }
      ]
    },
    {
      "cell_type": "markdown",
      "source": [
        "Проведя анализ методом apriori, был получен перечень наборов и транзакции при уровне поддержки(min_suppport = 0.15) 15% и не больше 38%(не включая). Минимальный набор - 1 товар. Максимальный набор - 2 товара."
      ],
      "metadata": {
        "id": "V-mDEsP_2Jmg"
      }
    },
    {
      "cell_type": "markdown",
      "source": [
        "12. Напишите правило, для вывода всех наборов, в которых хотя бы два элемента начинаются\n",
        "на 's'"
      ],
      "metadata": {
        "id": "CeTq35oS5M1n"
      }
    },
    {
      "cell_type": "code",
      "source": [
        "te = TransactionEncoder()\n",
        "te_ary = te.fit(dataset).transform(dataset)\n",
        "df_data = pd.DataFrame(te_ary, columns=te.columns_)\n",
        "\n",
        "results = apriori(df_data, min_support=0.1, use_colnames=True)\n",
        "results = results[results['itemsets'].apply(lambda x: np.fromiter(map(lambda y: y.startswith('s'), x),\n",
        "                                                                  dtype = bool).sum() >= 2)]\n",
        "\n",
        "print(results)\n",
        "print('\\nКол-во транзакций = ',len(results))"
      ],
      "metadata": {
        "colab": {
          "base_uri": "https://localhost:8080/"
        },
        "id": "9bMwJO-q5tj_",
        "outputId": "adff1107-7cfc-4bf7-d646-50ec413670f0"
      },
      "execution_count": 49,
      "outputs": [
        {
          "output_type": "stream",
          "name": "stderr",
          "text": [
            "/usr/local/lib/python3.10/dist-packages/ipykernel/ipkernel.py:283: DeprecationWarning: `should_run_async` will not call `transform_cell` automatically in the future. Please pass the result to `transformed_cell` argument and any exception that happen during thetransform in `preprocessing_exc_tuple` in IPython 7.17 and above.\n",
            "  and should_run_async(code)\n"
          ]
        },
        {
          "output_type": "stream",
          "name": "stdout",
          "text": [
            "       support                               itemsets\n",
            "26    0.367867                        (sandwich bags)\n",
            "27    0.349429                      (sandwich loaves)\n",
            "28    0.368745                              (shampoo)\n",
            "29    0.379280                                 (soap)\n",
            "30    0.390694                                 (soda)\n",
            "...        ...                                    ...\n",
            "1395  0.136962  (vegetables, spaghetti sauce, yogurt)\n",
            "1396  0.128183      (vegetables, sugar, toilet paper)\n",
            "1397  0.123793         (vegetables, sugar, tortillas)\n",
            "1398  0.136084           (vegetables, sugar, waffles)\n",
            "1399  0.133450            (vegetables, sugar, yogurt)\n",
            "\n",
            "[476 rows x 2 columns]\n",
            "\n",
            "Кол-во транзакций =  476\n"
          ]
        }
      ]
    },
    {
      "cell_type": "markdown",
      "source": [
        "Написав правило для датасетаб, включающего все наборы, были отобраны наборы в которых хотя бы два товара начинаются на букву 's'. Было получено 42 транзакции при уровне поддержки min_support = 0.1. Например, минимальная вероятность набора, имеющего два элемента на букву 's' является - vegetables, sugar, sandwich bags (11,3%). Аналогично максимальный -  soda, soap (17,4%)."
      ],
      "metadata": {
        "id": "BFJAjXpf93_v"
      }
    },
    {
      "cell_type": "markdown",
      "source": [
        "13. Напишите правило, для вывода всех наборов, для которых уровень поддержки изменяется\n",
        "от 0.1 до 0.25"
      ],
      "metadata": {
        "id": "OUt1tdWIDYUA"
      }
    },
    {
      "cell_type": "code",
      "source": [
        "te = TransactionEncoder()\n",
        "te_ary = te.fit(dataset).transform(dataset)\n",
        "df_data = pd.DataFrame(te_ary, columns=te.columns_)\n",
        "\n",
        "results = apriori(df_data, min_support=0.1, use_colnames=True)\n",
        "results = results[np.logical_and(results.support <= 0.25, results.support >= 0.1 )]\n",
        "print(results)"
      ],
      "metadata": {
        "colab": {
          "base_uri": "https://localhost:8080/"
        },
        "id": "27AR_sdfE8DG",
        "outputId": "9572df8c-450b-4076-dc8b-ee5fc01d1bfe"
      },
      "execution_count": 60,
      "outputs": [
        {
          "output_type": "stream",
          "name": "stdout",
          "text": [
            "       support                             itemsets\n",
            "38    0.157155        (all- purpose, aluminum foil)\n",
            "39    0.150132               (all- purpose, bagels)\n",
            "40    0.144864                 (all- purpose, beef)\n",
            "41    0.147498               (all- purpose, butter)\n",
            "42    0.151010              (all- purpose, cereals)\n",
            "...        ...                                  ...\n",
            "1401  0.135206  (vegetables, waffles, toilet paper)\n",
            "1402  0.130817   (vegetables, yogurt, toilet paper)\n",
            "1403  0.121159     (vegetables, tortillas, waffles)\n",
            "1404  0.130817      (vegetables, tortillas, yogurt)\n",
            "1405  0.146620        (vegetables, waffles, yogurt)\n",
            "\n",
            "[1331 rows x 2 columns]\n"
          ]
        },
        {
          "output_type": "stream",
          "name": "stderr",
          "text": [
            "/usr/local/lib/python3.10/dist-packages/ipykernel/ipkernel.py:283: DeprecationWarning: `should_run_async` will not call `transform_cell` automatically in the future. Please pass the result to `transformed_cell` argument and any exception that happen during thetransform in `preprocessing_exc_tuple` in IPython 7.17 and above.\n",
            "  and should_run_async(code)\n"
          ]
        }
      ]
    },
    {
      "cell_type": "markdown",
      "source": [
        "Написав правило для датасета использовав функцию  при уровне поддержки min_support = 0.1 и max_support = 0.25, было получено 1331 транзакций(минимальный набор - 2 товара и максимальный набор - 3 товара)."
      ],
      "metadata": {
        "id": "VzLUlVeaF-SV"
      }
    }
  ]
}